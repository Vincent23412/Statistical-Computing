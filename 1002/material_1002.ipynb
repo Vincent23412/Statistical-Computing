{
 "cells": [
  {
   "cell_type": "code",
   "execution_count": 9,
   "metadata": {},
   "outputs": [
    {
     "data": {
      "image/png": "[encoded data removed]",
      "text/plain": [
       "<Figure size 640x480 with 1 Axes>"
      ]
     },
     "metadata": {},
     "output_type": "display_data"
    }
   ],
   "source": [
    "import numpy as np\n",
    "import matplotlib.pyplot as plt\n",
    " \n",
    "# The codes below demonstrate the ticks and labels in x axis\n",
    "n = 100\n",
    "x = np.linspace(-3 * np.pi, 3 * np.pi, 200)\n",
    "y = 0\n",
    "# Approach 1: by using for loop to add the terms\n",
    "# for i in np.arange(n):\n",
    "#     k = 2 * i + 1\n",
    "#     y = y + np.sin(k * x) / k\n",
    " \n",
    "# Approach 2:  by using the vectorized computation (broadcasting)\n",
    "n = 100\n",
    "k = 2 * np.arange(n) + 1 \n",
    "Y = np.sin(x.reshape(-1, 1) * k) / k\n",
    "# Y = np.sin(k * x[:, np.newaxis]) / k\n",
    "# print(x[:, np.newaxis].shape)\n",
    " \n",
    "y = Y.sum(axis = 1) # sum along the row\n",
    " \n",
    "fig, ax = plt.subplots(1)\n",
    "ax.plot(x, y * 4 / np.pi, color = \"r\")\n",
    "ax.set_xticks(np.array([-3, -2, -1, 0, 1, 2, 3]) * np.pi)\n",
    "ax.set_xticklabels(\n",
    "    [\"-3$\\pi$\", \"-2$\\pi$\", \"$\\pi$\", \"0\", \"$\\pi$\", \"2$\\pi$\", \"3$\\pi$\"],\n",
    "    fontsize=10, color=\"b\",\n",
    ")\n",
    "ax.set_ylim([-3, 3])\n",
    "ax.grid(True)\n",
    "ax.set_xlabel('x'),  ax.set_ylabel('f(x)') \n",
    "ax.set_title('$f(x) = 4/\\pi(\\sin x+\\sin 3x/3+\\sin 5x/5 + \\cdots)$')\n",
    "plt.show()"
   ]
  },
  {
   "cell_type": "code",
   "execution_count": 21,
   "metadata": {},
   "outputs": [
    {
     "name": "stdout",
     "output_type": "stream",
     "text": [
      "(200,)\n",
      "------\n",
      "[[-9.42477796]\n",
      " [-9.33005657]\n",
      " [-9.23533519]\n",
      " [-9.1406138 ]\n",
      " [-9.04589241]\n",
      " [-8.95117103]\n",
      " [-8.85644964]\n",
      " [-8.76172825]\n",
      " [-8.66700687]\n",
      " [-8.57228548]\n",
      " [-8.4775641 ]\n",
      " [-8.38284271]\n",
      " [-8.28812132]\n",
      " [-8.19339994]\n",
      " [-8.09867855]\n",
      " [-8.00395716]\n",
      " [-7.90923578]\n",
      " [-7.81451439]\n",
      " [-7.719793  ]\n",
      " [-7.62507162]\n",
      " [-7.53035023]\n",
      " [-7.43562884]\n",
      " [-7.34090746]\n",
      " [-7.24618607]\n",
      " [-7.15146468]\n",
      " [-7.0567433 ]\n",
      " [-6.96202191]\n",
      " [-6.86730052]\n",
      " [-6.77257914]\n",
      " [-6.67785775]\n",
      " [-6.58313636]\n",
      " [-6.48841498]\n",
      " [-6.39369359]\n",
      " [-6.2989722 ]\n",
      " [-6.20425082]\n",
      " [-6.10952943]\n",
      " [-6.01480805]\n",
      " [-5.92008666]\n",
      " [-5.82536527]\n",
      " [-5.73064389]\n",
      " [-5.6359225 ]\n",
      " [-5.54120111]\n",
      " [-5.44647973]\n",
      " [-5.35175834]\n",
      " [-5.25703695]\n",
      " [-5.16231557]\n",
      " [-5.06759418]\n",
      " [-4.97287279]\n",
      " [-4.87815141]\n",
      " [-4.78343002]\n",
      " [-4.68870863]\n",
      " [-4.59398725]\n",
      " [-4.49926586]\n",
      " [-4.40454447]\n",
      " [-4.30982309]\n",
      " [-4.2151017 ]\n",
      " [-4.12038031]\n",
      " [-4.02565893]\n",
      " [-3.93093754]\n",
      " [-3.83621615]\n",
      " [-3.74149477]\n",
      " [-3.64677338]\n",
      " [-3.552052  ]\n",
      " [-3.45733061]\n",
      " [-3.36260922]\n",
      " [-3.26788784]\n",
      " [-3.17316645]\n",
      " [-3.07844506]\n",
      " [-2.98372368]\n",
      " [-2.88900229]\n",
      " [-2.7942809 ]\n",
      " [-2.69955952]\n",
      " [-2.60483813]\n",
      " [-2.51011674]\n",
      " [-2.41539536]\n",
      " [-2.32067397]\n",
      " [-2.22595258]\n",
      " [-2.1312312 ]\n",
      " [-2.03650981]\n",
      " [-1.94178842]\n",
      " [-1.84706704]\n",
      " [-1.75234565]\n",
      " [-1.65762426]\n",
      " [-1.56290288]\n",
      " [-1.46818149]\n",
      " [-1.3734601 ]\n",
      " [-1.27873872]\n",
      " [-1.18401733]\n",
      " [-1.08929595]\n",
      " [-0.99457456]\n",
      " [-0.89985317]\n",
      " [-0.80513179]\n",
      " [-0.7104104 ]\n",
      " [-0.61568901]\n",
      " [-0.52096763]\n",
      " [-0.42624624]\n",
      " [-0.33152485]\n",
      " [-0.23680347]\n",
      " [-0.14208208]\n",
      " [-0.04736069]\n",
      " [ 0.04736069]\n",
      " [ 0.14208208]\n",
      " [ 0.23680347]\n",
      " [ 0.33152485]\n",
      " [ 0.42624624]\n",
      " [ 0.52096763]\n",
      " [ 0.61568901]\n",
      " [ 0.7104104 ]\n",
      " [ 0.80513179]\n",
      " [ 0.89985317]\n",
      " [ 0.99457456]\n",
      " [ 1.08929595]\n",
      " [ 1.18401733]\n",
      " [ 1.27873872]\n",
      " [ 1.3734601 ]\n",
      " [ 1.46818149]\n",
      " [ 1.56290288]\n",
      " [ 1.65762426]\n",
      " [ 1.75234565]\n",
      " [ 1.84706704]\n",
      " [ 1.94178842]\n",
      " [ 2.03650981]\n",
      " [ 2.1312312 ]\n",
      " [ 2.22595258]\n",
      " [ 2.32067397]\n",
      " [ 2.41539536]\n",
      " [ 2.51011674]\n",
      " [ 2.60483813]\n",
      " [ 2.69955952]\n",
      " [ 2.7942809 ]\n",
      " [ 2.88900229]\n",
      " [ 2.98372368]\n",
      " [ 3.07844506]\n",
      " [ 3.17316645]\n",
      " [ 3.26788784]\n",
      " [ 3.36260922]\n",
      " [ 3.45733061]\n",
      " [ 3.552052  ]\n",
      " [ 3.64677338]\n",
      " [ 3.74149477]\n",
      " [ 3.83621615]\n",
      " [ 3.93093754]\n",
      " [ 4.02565893]\n",
      " [ 4.12038031]\n",
      " [ 4.2151017 ]\n",
      " [ 4.30982309]\n",
      " [ 4.40454447]\n",
      " [ 4.49926586]\n",
      " [ 4.59398725]\n",
      " [ 4.68870863]\n",
      " [ 4.78343002]\n",
      " [ 4.87815141]\n",
      " [ 4.97287279]\n",
      " [ 5.06759418]\n",
      " [ 5.16231557]\n",
      " [ 5.25703695]\n",
      " [ 5.35175834]\n",
      " [ 5.44647973]\n",
      " [ 5.54120111]\n",
      " [ 5.6359225 ]\n",
      " [ 5.73064389]\n",
      " [ 5.82536527]\n",
      " [ 5.92008666]\n",
      " [ 6.01480805]\n",
      " [ 6.10952943]\n",
      " [ 6.20425082]\n",
      " [ 6.2989722 ]\n",
      " [ 6.39369359]\n",
      " [ 6.48841498]\n",
      " [ 6.58313636]\n",
      " [ 6.67785775]\n",
      " [ 6.77257914]\n",
      " [ 6.86730052]\n",
      " [ 6.96202191]\n",
      " [ 7.0567433 ]\n",
      " [ 7.15146468]\n",
      " [ 7.24618607]\n",
      " [ 7.34090746]\n",
      " [ 7.43562884]\n",
      " [ 7.53035023]\n",
      " [ 7.62507162]\n",
      " [ 7.719793  ]\n",
      " [ 7.81451439]\n",
      " [ 7.90923578]\n",
      " [ 8.00395716]\n",
      " [ 8.09867855]\n",
      " [ 8.19339994]\n",
      " [ 8.28812132]\n",
      " [ 8.38284271]\n",
      " [ 8.4775641 ]\n",
      " [ 8.57228548]\n",
      " [ 8.66700687]\n",
      " [ 8.76172825]\n",
      " [ 8.85644964]\n",
      " [ 8.95117103]\n",
      " [ 9.04589241]\n",
      " [ 9.1406138 ]\n",
      " [ 9.23533519]\n",
      " [ 9.33005657]\n",
      " [ 9.42477796]]\n",
      "------\n",
      "(100,)\n",
      "------\n",
      "(200, 100)\n",
      "------\n",
      "(200,)\n"
     ]
    }
   ],
   "source": [
    "x = np.linspace(-3 * np.pi, 3 * np.pi, 200)\n",
    "y = 0\n",
    "# Approach 2:  by using the vectorized computation (broadcasting)\n",
    "print(x.shape)\n",
    "print('------')\n",
    "print(x.reshape(-1, 1))\n",
    "n = 100\n",
    "k = 2 * np.arange(n) + 1 \n",
    "print('------')\n",
    "print(k.shape)\n",
    "Y = np.sin(x.reshape(-1, 1) * k) / k\n",
    "print('------')\n",
    "print(Y.shape)\n",
    "# Y = np.sin(k * x[:, np.newaxis]) / k\n",
    "# print(x[:, np.newaxis].shape)\n",
    "print('------')\n",
    "y = Y.sum(axis = 1) # sum along the row\n",
    "print(y.shape)\n",
    " "
   ]
  },
  {
   "cell_type": "code",
   "execution_count": 2,
   "metadata": {},
   "outputs": [
    {
     "name": "stdout",
     "output_type": "stream",
     "text": [
      "[[0.5000 0.5040 0.5080 0.5120 0.5160 0.5199 0.5239 0.5279 0.5319 0.5359]\n",
      " [0.5398 0.5438 0.5478 0.5517 0.5557 0.5596 0.5636 0.5675 0.5714 0.5753]\n",
      " [0.5793 0.5832 0.5871 0.5910 0.5948 0.5987 0.6026 0.6064 0.6103 0.6141]\n",
      " [0.6179 0.6217 0.6255 0.6293 0.6331 0.6368 0.6406 0.6443 0.6480 0.6517]\n",
      " [0.6554 0.6591 0.6628 0.6664 0.6700 0.6736 0.6772 0.6808 0.6844 0.6879]\n",
      " [0.6915 0.6950 0.6985 0.7019 0.7054 0.7088 0.7123 0.7157 0.7190 0.7224]\n",
      " [0.7257 0.7291 0.7324 0.7357 0.7389 0.7422 0.7454 0.7486 0.7517 0.7549]\n",
      " [0.7580 0.7611 0.7642 0.7673 0.7704 0.7734 0.7764 0.7794 0.7823 0.7852]\n",
      " [0.7881 0.7910 0.7939 0.7967 0.7995 0.8023 0.8051 0.8078 0.8106 0.8133]\n",
      " [0.8159 0.8186 0.8212 0.8238 0.8264 0.8289 0.8315 0.8340 0.8365 0.8389]\n",
      " [0.8413 0.8438 0.8461 0.8485 0.8508 0.8531 0.8554 0.8577 0.8599 0.8621]\n",
      " [0.8643 0.8665 0.8686 0.8708 0.8729 0.8749 0.8770 0.8790 0.8810 0.8830]\n",
      " [0.8849 0.8869 0.8888 0.8907 0.8925 0.8944 0.8962 0.8980 0.8997 0.9015]\n",
      " [0.9032 0.9049 0.9066 0.9082 0.9099 0.9115 0.9131 0.9147 0.9162 0.9177]\n",
      " [0.9192 0.9207 0.9222 0.9236 0.9251 0.9265 0.9279 0.9292 0.9306 0.9319]\n",
      " [0.9332 0.9345 0.9357 0.9370 0.9382 0.9394 0.9406 0.9418 0.9429 0.9441]\n",
      " [0.9452 0.9463 0.9474 0.9484 0.9495 0.9505 0.9515 0.9525 0.9535 0.9545]\n",
      " [0.9554 0.9564 0.9573 0.9582 0.9591 0.9599 0.9608 0.9616 0.9625 0.9633]\n",
      " [0.9641 0.9649 0.9656 0.9664 0.9671 0.9678 0.9686 0.9693 0.9699 0.9706]\n",
      " [0.9713 0.9719 0.9726 0.9732 0.9738 0.9744 0.9750 0.9756 0.9761 0.9767]\n",
      " [0.9772 0.9778 0.9783 0.9788 0.9793 0.9798 0.9803 0.9808 0.9812 0.9817]\n",
      " [0.9821 0.9826 0.9830 0.9834 0.9838 0.9842 0.9846 0.9850 0.9854 0.9857]\n",
      " [0.9861 0.9864 0.9868 0.9871 0.9875 0.9878 0.9881 0.9884 0.9887 0.9890]\n",
      " [0.9893 0.9896 0.9898 0.9901 0.9904 0.9906 0.9909 0.9911 0.9913 0.9916]\n",
      " [0.9918 0.9920 0.9922 0.9925 0.9927 0.9929 0.9931 0.9932 0.9934 0.9936]\n",
      " [0.9938 0.9940 0.9941 0.9943 0.9945 0.9946 0.9948 0.9949 0.9951 0.9952]\n",
      " [0.9953 0.9955 0.9956 0.9957 0.9959 0.9960 0.9961 0.9962 0.9963 0.9964]\n",
      " [0.9965 0.9966 0.9967 0.9968 0.9969 0.9970 0.9971 0.9972 0.9973 0.9974]\n",
      " [0.9974 0.9975 0.9976 0.9977 0.9977 0.9978 0.9979 0.9979 0.9980 0.9981]\n",
      " [0.9981 0.9982 0.9982 0.9983 0.9984 0.9984 0.9985 0.9985 0.9986 0.9986]\n",
      " [0.9987 0.9987 0.9987 0.9988 0.9988 0.9989 0.9989 0.9989 0.9990 0.9990]]\n"
     ]
    }
   ],
   "source": [
    "import numpy as np\n",
    "from scipy.stats import norm\n",
    " \n",
    "z_col = np.arange(0, 3.1, 0.1)\n",
    "z_row = np.arange(0, 0.1, 0.01)\n",
    "# Approach 1: use double loop\n",
    "# Z = np.zeros((len(z_col), len(z_row)))\n",
    "# for i in range(len(z_col)):\n",
    "#     for j in range(len(z_row)):\n",
    "#         Z[i, j] = norm.cdf(z_col[i] + z_row[j])\n",
    "# print(np.round(Z, 4))\n",
    " \n",
    "# Approach 2: use broadcasting\n",
    "Z = norm.cdf(z_col.reshape(-1, 1) + z_row) # reshape(-1, 1): column vector\n",
    "M_str = np.array2string(np.round(Z, 4), formatter={'float_kind':lambda x: \"%.4f\" % x})\n",
    "print(M_str)"
   ]
  },
  {
   "cell_type": "code",
   "execution_count": 30,
   "metadata": {},
   "outputs": [
    {
     "name": "stdout",
     "output_type": "stream",
     "text": [
      "(31, 1)\n",
      "(10,)\n"
     ]
    }
   ],
   "source": [
    "print(z_col.reshape(-1, 1).shape)\n",
    "z_col_reshape = z_col.reshape(-1, 1) \n",
    "print(z_row.shape)\n",
    "z_col_z_row = z_col.reshape(-1, 1) + z_row"
   ]
  },
  {
   "cell_type": "code",
   "execution_count": 3,
   "metadata": {},
   "outputs": [
    {
     "data": {
      "image/png": "[encoded data removed]",
      "text/plain": [
       "<Figure size 640x480 with 1 Axes>"
      ]
     },
     "metadata": {},
     "output_type": "display_data"
    }
   ],
   "source": [
    "import matplotlib.pyplot as plt\n",
    "import numpy as np\n",
    " \n",
    "x = np.linspace(-6, 6, 300)\n",
    "alpha = np.arange(1, 11, 1)\n",
    "Y = np.exp(x.reshape(-1, 1) * alpha) / (np.exp(x.reshape(-1, 1) * alpha) + 1)\n",
    "plt.plot(x, Y, color = 'b', alpha = 0.5)\n",
    "plt.grid(True)\n",
    "plt.show()"
   ]
  },
  {
   "cell_type": "code",
   "execution_count": 5,
   "metadata": {},
   "outputs": [
    {
     "name": "stdout",
     "output_type": "stream",
     "text": [
      "The sample mean of x is 5.8000\n",
      "The sample variation of x is 3.7\n",
      "The sample standard deviation of x is 1.923538\n"
     ]
    }
   ],
   "source": [
    "import numpy as np\n",
    " \n",
    "x = np.array([6, 3, 5, 8, 7])\n",
    "y = np.array([2, 4, 3, 7, 6])\n",
    " \n",
    "sum_x_formula = x[0] + x[1] + x[2] + x[3] + x[4]\n",
    "sum_x = x.sum() # numpy data's method\n",
    " \n",
    "n = len(x) # sample size\n",
    "x_bar_formula = sum_x / n \n",
    "x_bar = x.mean()\n",
    " \n",
    "var_x_formula_1 = ((x - x_bar)**2).sum() / (n-1) # element by element operation\n",
    "var_x_formula_2 = np.sum((x - x_bar)**2) / (n-1)\n",
    "var_x = x.var( ddof = 1) # ddof = 1: divided by N-1\n",
    " \n",
    "std_x_formula = np.sqrt(var_x)\n",
    "std_x = x.std( ddof = 1)\n",
    " \n",
    "y_bar = y.mean()\n",
    "std_y = y.std( ddof = 1)\n",
    " \n",
    "print('The sample mean of x is {:.4f}'.format(x_bar))\n",
    "print('The sample variation of x is {}'.format(var_x))\n",
    "print('The sample standard deviation of x is %.6f' %std_x)"
   ]
  },
  {
   "cell_type": "code",
   "execution_count": 10,
   "metadata": {},
   "outputs": [
    {
     "name": "stdout",
     "output_type": "stream",
     "text": [
      "Correlation coefficient by formula is 0.5892\n",
      "Correlation coefficient by scipy.stats.pearsonr is 0.5892\n"
     ]
    }
   ],
   "source": [
    "import numpy as np\n",
    "from scipy.stats import pearsonr\n",
    " \n",
    "x = np.array([6, 3, 5, 8, 7])\n",
    "y = np.array([2, 4, 3, 7, 6])\n",
    " \n",
    "# coding for r by formula\n",
    "Sxy = (x - x.mean()).reshape(1,-1) @ (y - y.mean()).reshape(-1,1) / (len(x) - 1)\n",
    "Sxx = ((x - x.mean())**2).sum() / (len(x) - 1)\n",
    "Syy = ((y - y.mean())**2).sum() / (len(y) - 1)\n",
    "\n",
    "\n",
    "\n",
    "r_formula = Sxy / np.sqrt(Sxx * Syy)\n",
    "print('Correlation coefficient by formula is {:.4f}'.format(r_formula))\n",
    "# directly use command from scipy.stats\n",
    "r_sci = pearsonr(x, y)[0] # the first return value\n",
    "print('Correlation coefficient by scipy.stats.pearsonr is %.4f' %r_sci)\n"
   ]
  },
  {
   "cell_type": "code",
   "execution_count": 19,
   "metadata": {},
   "outputs": [
    {
     "data": {
      "text/plain": [
       "array([[-0.48,  1.12,  1.12,  5.72,  1.92]])"
      ]
     },
     "execution_count": 19,
     "metadata": {},
     "output_type": "execute_result"
    }
   ],
   "source": [
    "(x - x.mean()).reshape(1,-1) * (y - y.mean())"
   ]
  },
  {
   "cell_type": "code",
   "execution_count": 15,
   "metadata": {},
   "outputs": [
    {
     "name": "stdout",
     "output_type": "stream",
     "text": [
      "[[ 0.2 -2.8 -0.8  2.2  1.2]]\n",
      "[-2.4 -0.4 -1.4  2.6  1.6]\n"
     ]
    }
   ],
   "source": []
  },
  {
   "cell_type": "code",
   "execution_count": 16,
   "metadata": {},
   "outputs": [
    {
     "data": {
      "text/plain": [
       "9.4"
      ]
     },
     "execution_count": 16,
     "metadata": {},
     "output_type": "execute_result"
    }
   ],
   "source": []
  }
 ],
 "metadata": {
  "kernelspec": {
   "display_name": "myenv",
   "language": "python",
   "name": "python3"
  },
  "language_info": {
   "codemirror_mode": {
    "name": "ipython",
    "version": 3
   },
   "file_extension": ".py",
   "mimetype": "text/x-python",
   "name": "python",
   "nbconvert_exporter": "python",
   "pygments_lexer": "ipython3",
   "version": "3.11.3"
  },
  "orig_nbformat": 4
 },
 "nbformat": 4,
 "nbformat_minor": 2
}
