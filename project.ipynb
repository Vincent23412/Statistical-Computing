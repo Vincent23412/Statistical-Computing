{
 "cells": [
  {
   "cell_type": "markdown",
   "metadata": {},
   "source": [
    "### <strong>期末專題：雙變量函數的繪圖 & 多變量函數的參數估計與極值計算</strong>\n",
    "學號：411073088\n",
    "\n",
    "姓名：陳敬翰\n",
    "<hr>\n",
    "\n",
    " <font color=yellow>作品目標</font>：\n",
    "\n",
    "\n",
    "<hr>"
   ]
  },
  {
   "cell_type": "markdown",
   "metadata": {},
   "source": []
  },
  {
   "cell_type": "markdown",
   "metadata": {},
   "source": [
    "函數 $f(x_1,x_2) = (x_1-2)^4 + (x_1-2)^2x_2^2 + (x_2+1)^2$\n",
    "繪製立體圖（wireframe）與等高線圖（contour）。\n",
    "\n",
    "計算 \\displaystyle\\min_{x_1, x_2} f(x_1, x_2)."
   ]
  },
  {
   "cell_type": "code",
   "execution_count": null,
   "metadata": {
    "vscode": {
     "languageId": "plaintext"
    }
   },
   "outputs": [],
   "source": []
  }
 ],
 "metadata": {
  "kernelspec": {
   "display_name": "Python 3.10.5 ('statcomp': venv)",
   "language": "python",
   "name": "python3"
  },
  "language_info": {
   "codemirror_mode": {
    "name": "ipython",
    "version": 3
   },
   "file_extension": ".py",
   "mimetype": "text/x-python",
   "name": "python",
   "nbconvert_exporter": "python",
   "pygments_lexer": "ipython3",
   "version": "3.11.3"
  },
  "orig_nbformat": 4,
  "vscode": {
   "interpreter": {
    "hash": "fbde1579f435acf562863568a5b85685b1bad9ee41219b185d40dd6f87e8ba72"
   }
  }
 },
 "nbformat": 4,
 "nbformat_minor": 2
}
